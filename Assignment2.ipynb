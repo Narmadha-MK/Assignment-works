{
 "cells": [
  {
   "cell_type": "markdown",
   "id": "cf1e527e",
   "metadata": {},
   "source": [
    "# ASSIGNMENT 2"
   ]
  },
  {
   "cell_type": "markdown",
   "id": "9b8752bf",
   "metadata": {},
   "source": [
    "### Write a function add_numbers() that takes two numbers as arguments and return their sum."
   ]
  },
  {
   "cell_type": "code",
   "execution_count": 2,
   "id": "6793d165",
   "metadata": {},
   "outputs": [
    {
     "name": "stdout",
     "output_type": "stream",
     "text": [
      "The sum is  10\n"
     ]
    }
   ],
   "source": [
    "def add_numbers(num1,num2):\n",
    "    return(num1+num2)\n",
    "result=add_numbers(4,6)\n",
    "print(\"The sum is \",result)\n",
    "    "
   ]
  },
  {
   "cell_type": "markdown",
   "id": "d798afa0",
   "metadata": {},
   "source": [
    "### Write a function multiply_numbers() that takes two numbers as arguments and return their product."
   ]
  },
  {
   "cell_type": "code",
   "execution_count": 3,
   "id": "b40160e9",
   "metadata": {},
   "outputs": [
    {
     "name": "stdout",
     "output_type": "stream",
     "text": [
      "The product is  8\n"
     ]
    }
   ],
   "source": [
    "def multiply_numbers(num1,num2):\n",
    "    return(num1*num2)\n",
    "result=add_numbers(3,5)\n",
    "print(\"The product is \",result)\n",
    "    "
   ]
  },
  {
   "cell_type": "markdown",
   "id": "92be9ef1",
   "metadata": {},
   "source": [
    "### Write a function divide_numbers() that takes two numbers as arguments and return their quotient.¶Make sure to handle the case where the second number is 0."
   ]
  },
  {
   "cell_type": "code",
   "execution_count": 11,
   "id": "b3938c5e",
   "metadata": {},
   "outputs": [
    {
     "name": "stdout",
     "output_type": "stream",
     "text": [
      "The quotient is 2.0\n",
      "it cant be divided by zero\n"
     ]
    }
   ],
   "source": [
    "def divide_numbers(num1,num2):\n",
    "    if num2==0:\n",
    "        print (\"it cant be divided by zero\")\n",
    "    else:\n",
    "            return(num1/num2)\n",
    "result=divide_numbers(12,6)\n",
    "print(\"The quotient is\",result)\n",
    "result=divide_numbers(10,0)\n"
   ]
  },
  {
   "cell_type": "markdown",
   "id": "34fc227c",
   "metadata": {},
   "source": [
    "### Write a function calculate_average() that takes a list of number as an arguments and returns their average."
   ]
  },
  {
   "cell_type": "code",
   "execution_count": 9,
   "id": "13cb747e",
   "metadata": {},
   "outputs": [
    {
     "name": "stdout",
     "output_type": "stream",
     "text": [
      "The average is: 4.0\n"
     ]
    }
   ],
   "source": [
    "def calculate_average(list):\n",
    "    return sum(list)/len(list)\n",
    "list=[2,3,4,8,3]\n",
    "average=calculate_average(list)\n",
    "print(\"The average is:\",average)\n",
    "        "
   ]
  },
  {
   "cell_type": "markdown",
   "id": "a8271402",
   "metadata": {},
   "source": [
    "### Write a function is_prime() that takes a number as an argument and returns true if it is prime and false otherwise"
   ]
  },
  {
   "cell_type": "code",
   "execution_count": 14,
   "id": "dec96673",
   "metadata": {},
   "outputs": [
    {
     "name": "stdout",
     "output_type": "stream",
     "text": [
      "Is 13 prime? True\n",
      "Is 8 prime? False\n"
     ]
    }
   ],
   "source": [
    "def is_prime(number):\n",
    "\n",
    "    if number <= 1:\n",
    "        return False  \n",
    "    \n",
    "    for i in range(2, int(number**0.5) + 1):\n",
    "        if number % i == 0:\n",
    "            return False  \n",
    "    return True\n",
    "num = 13\n",
    "print(\"Is\", num, \"prime?\", is_prime(num))\n",
    "num = 8\n",
    "print(\"Is\", num, \"prime?\", is_prime(num))\n"
   ]
  },
  {
   "cell_type": "markdown",
   "id": "354be348",
   "metadata": {},
   "source": [
    "# OOPS"
   ]
  },
  {
   "cell_type": "markdown",
   "id": "1037c662",
   "metadata": {},
   "source": [
    "### "
   ]
  },
  {
   "cell_type": "markdown",
   "id": "b7da2577",
   "metadata": {},
   "source": [
    "### Create a class Bank with attributes name and accounts. Add methods add_account, remove_account, and get_total_balance that add an account to the list, remove an account from the list, and return the total balance of all accounts, respectively."
   ]
  },
  {
   "cell_type": "code",
   "execution_count": 2,
   "id": "90de7fa4",
   "metadata": {},
   "outputs": [
    {
     "name": "stdout",
     "output_type": "stream",
     "text": [
      "Added account is: TAM\n",
      "Added account is: AAD\n",
      "Added account is: MUT\n",
      "Removed account is: MUT\n"
     ]
    },
    {
     "data": {
      "text/plain": [
       "['TAM', 'AAD']"
      ]
     },
     "execution_count": 2,
     "metadata": {},
     "output_type": "execute_result"
    }
   ],
   "source": [
    "class Bank:\n",
    "\n",
    "    def __init__(self, name):        \n",
    "        self.name = name\n",
    "        self.accounts = []    \n",
    "        \n",
    "    def add_account(self, account):\n",
    "        self.accounts.append(account)\n",
    "        print(\"Added account is:\", account)\n",
    "        \n",
    "    def remove_account(self, account):\n",
    "        self.accounts.remove(account) \n",
    "        print(\"Removed account is:\", account)\n",
    "        \n",
    "    def get_total_balance(self):\n",
    "        return self.accounts\n",
    "        \n",
    "n = Bank('IB')\n",
    "\n",
    "n.add_account('TAM')\n",
    "n.add_account('AAD') \n",
    "n.add_account('MUT')\n",
    "n.remove_account('MUT')\n",
    "n.get_total_balance() \n"
   ]
  },
  {
   "cell_type": "code",
   "execution_count": 3,
   "id": "db773eed",
   "metadata": {},
   "outputs": [
    {
     "data": {
      "text/plain": [
       "('IB', ['TAM', 'AAD'])"
      ]
     },
     "execution_count": 3,
     "metadata": {},
     "output_type": "execute_result"
    }
   ],
   "source": [
    "n.name,n.accounts"
   ]
  },
  {
   "cell_type": "code",
   "execution_count": null,
   "id": "74df4a4c",
   "metadata": {},
   "outputs": [],
   "source": []
  },
  {
   "cell_type": "code",
   "execution_count": null,
   "id": "3d2ff126",
   "metadata": {},
   "outputs": [],
   "source": []
  }
 ],
 "metadata": {
  "kernelspec": {
   "display_name": "Python 3 (ipykernel)",
   "language": "python",
   "name": "python3"
  },
  "language_info": {
   "codemirror_mode": {
    "name": "ipython",
    "version": 3
   },
   "file_extension": ".py",
   "mimetype": "text/x-python",
   "name": "python",
   "nbconvert_exporter": "python",
   "pygments_lexer": "ipython3",
   "version": "3.11.4"
  }
 },
 "nbformat": 4,
 "nbformat_minor": 5
}
