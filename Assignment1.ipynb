{
 "cells": [
  {
   "cell_type": "markdown",
   "id": "c7d013f0",
   "metadata": {},
   "source": [
    "# ASSIGNMENT"
   ]
  },
  {
   "cell_type": "markdown",
   "id": "5f48f16e",
   "metadata": {},
   "source": [
    "### Create a variable x and assign it the value 5. Print the value of x."
   ]
  },
  {
   "cell_type": "code",
   "execution_count": 1,
   "id": "42b85d95",
   "metadata": {},
   "outputs": [
    {
     "name": "stdout",
     "output_type": "stream",
     "text": [
      "5\n"
     ]
    }
   ],
   "source": [
    "x=5\n",
    "print(x)"
   ]
  },
  {
   "cell_type": "markdown",
   "id": "f1a5f865",
   "metadata": {},
   "source": [
    "### Create two variables a and b, and assign them values 3 and 2 respectively. Add a and b together and print the result¶"
   ]
  },
  {
   "cell_type": "code",
   "execution_count": 2,
   "id": "27ed1ca3",
   "metadata": {},
   "outputs": [
    {
     "name": "stdout",
     "output_type": "stream",
     "text": [
      "5\n"
     ]
    }
   ],
   "source": [
    "a=3\n",
    "b=2\n",
    "print(a+b)"
   ]
  },
  {
   "cell_type": "markdown",
   "id": "71ea3e4a",
   "metadata": {},
   "source": [
    "### Create a variable pi and assign it the value 3.14159. Print the value of pi."
   ]
  },
  {
   "cell_type": "code",
   "execution_count": 3,
   "id": "c3a66f94",
   "metadata": {},
   "outputs": [
    {
     "name": "stdout",
     "output_type": "stream",
     "text": [
      "3.14159\n"
     ]
    }
   ],
   "source": [
    "pi=3.14159\n",
    "print(pi)"
   ]
  },
  {
   "cell_type": "markdown",
   "id": "0f66af1d",
   "metadata": {},
   "source": [
    "### Create a variable radius and assign it the value 5. Calculate the area of a circle with radius using the formula pi*radius**2 and print the result"
   ]
  },
  {
   "cell_type": "code",
   "execution_count": 4,
   "id": "2f1d6d66",
   "metadata": {},
   "outputs": [
    {
     "name": "stdout",
     "output_type": "stream",
     "text": [
      "5\n",
      "3.14159\n"
     ]
    }
   ],
   "source": [
    "radius=5\n",
    "print(radius)\n",
    "print(pi)"
   ]
  },
  {
   "cell_type": "code",
   "execution_count": 5,
   "id": "450eb6eb",
   "metadata": {},
   "outputs": [
    {
     "name": "stdout",
     "output_type": "stream",
     "text": [
      "78.53975\n"
     ]
    }
   ],
   "source": [
    "Area=pi*radius**2\n",
    "print(Area)"
   ]
  },
  {
   "cell_type": "markdown",
   "id": "0bb80240",
   "metadata": {},
   "source": [
    "### Create a variable name and assign it your name as a string. Print a greeting using your name, such as \"Hello,[name]!\""
   ]
  },
  {
   "cell_type": "code",
   "execution_count": 6,
   "id": "fc51fb0f",
   "metadata": {},
   "outputs": [
    {
     "name": "stdout",
     "output_type": "stream",
     "text": [
      "Hello Narmadha\n"
     ]
    }
   ],
   "source": [
    "name='Narmadha'\n",
    "print(\"Hello\",name)"
   ]
  },
  {
   "cell_type": "markdown",
   "id": "e853bc19",
   "metadata": {},
   "source": [
    "### Create a variable age and assign it your age as an integer. Print a sentence that includes your age, such as \"I am age years old\"\n"
   ]
  },
  {
   "cell_type": "code",
   "execution_count": 7,
   "id": "3a7dd923",
   "metadata": {},
   "outputs": [
    {
     "name": "stdout",
     "output_type": "stream",
     "text": [
      "31\n",
      "Iam 31 years old\n"
     ]
    }
   ],
   "source": [
    "age=31\n",
    "print(age)\n",
    "print(\"Iam\",age,\"years old\")"
   ]
  },
  {
   "cell_type": "markdown",
   "id": "f0d73808",
   "metadata": {},
   "source": [
    "### Create a variable height and assign it your height in meters as a float. Print a sentence that includes your height,such as \"I am [height] meters tall\""
   ]
  },
  {
   "cell_type": "code",
   "execution_count": 8,
   "id": "dffbe1c4",
   "metadata": {},
   "outputs": [
    {
     "name": "stdout",
     "output_type": "stream",
     "text": [
      "31\n",
      "Iam 31 years old\n"
     ]
    }
   ],
   "source": [
    "age=31\n",
    "print(age)\n",
    "print(\"Iam\",age,\"years old\")"
   ]
  },
  {
   "cell_type": "markdown",
   "id": "c4ed0777",
   "metadata": {},
   "source": [
    "### Create a variable sentence and assign it a sentence as a string. Print the first letter of the sentence¶"
   ]
  },
  {
   "cell_type": "code",
   "execution_count": 9,
   "id": "67ca550e",
   "metadata": {},
   "outputs": [
    {
     "name": "stdout",
     "output_type": "stream",
     "text": [
      "T\n"
     ]
    }
   ],
   "source": [
    "sentence=\"Tanish is a good boy\"\n",
    "print(sentence[0])"
   ]
  },
  {
   "cell_type": "markdown",
   "id": "cd90b4c5",
   "metadata": {},
   "source": [
    "### Create a variable sentence and assign it a sentence as a string. Print the last letter of the sentence.¶"
   ]
  },
  {
   "cell_type": "code",
   "execution_count": 11,
   "id": "71b65e33",
   "metadata": {},
   "outputs": [
    {
     "name": "stdout",
     "output_type": "stream",
     "text": [
      "Tanish is a good boy\n",
      "y\n"
     ]
    }
   ],
   "source": [
    "print(sentence)\n",
    "print(sentence[-1])"
   ]
  },
  {
   "cell_type": "markdown",
   "id": "740cdaca",
   "metadata": {},
   "source": [
    "### Create a variable sentence and assign it a sentence as a string. Print the length of the sentence"
   ]
  },
  {
   "cell_type": "code",
   "execution_count": 12,
   "id": "4c3ae3a5",
   "metadata": {},
   "outputs": [
    {
     "data": {
      "text/plain": [
       "20"
      ]
     },
     "execution_count": 12,
     "metadata": {},
     "output_type": "execute_result"
    }
   ],
   "source": [
    "\n",
    "len(sentence)\n"
   ]
  },
  {
   "cell_type": "code",
   "execution_count": null,
   "id": "9fb3bfbc",
   "metadata": {},
   "outputs": [],
   "source": []
  }
 ],
 "metadata": {
  "kernelspec": {
   "display_name": "Python 3 (ipykernel)",
   "language": "python",
   "name": "python3"
  },
  "language_info": {
   "codemirror_mode": {
    "name": "ipython",
    "version": 3
   },
   "file_extension": ".py",
   "mimetype": "text/x-python",
   "name": "python",
   "nbconvert_exporter": "python",
   "pygments_lexer": "ipython3",
   "version": "3.11.4"
  }
 },
 "nbformat": 4,
 "nbformat_minor": 5
}
